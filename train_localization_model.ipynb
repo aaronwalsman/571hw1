{
  "cells": [
    {
      "cell_type": "code",
      "execution_count": null,
      "metadata": {
        "id": "rVZN8slTVLgN"
      },
      "outputs": [],
      "source": [
        "# install progress bar\n",
        "!pip install tqdm"
      ]
    },
    {
      "cell_type": "code",
      "execution_count": 16,
      "metadata": {
        "id": "HPMuRRjTc9nr"
      },
      "outputs": [],
      "source": [
        "# imports\n",
        "import math\n",
        "import zipfile\n",
        "import os\n",
        "\n",
        "import matplotlib.pyplot as plt\n",
        "\n",
        "from tqdm.notebook import tqdm\n",
        "\n",
        "import PIL.Image as Image\n",
        "\n",
        "import numpy as np\n",
        "\n",
        "import torch\n",
        "import torch.nn.functional as F\n",
        "from torch.utils.data import Dataset, DataLoader"
      ]
    },
    {
      "cell_type": "code",
      "source": [
        "# upload observation_model.py from your assignment folder before running this\n",
        "# run this each time you want to reload the observation_model code\n",
        "import observation_model\n",
        "import importlib\n",
        "import observation_model\n",
        "importlib.reload(observation_model)"
      ],
      "metadata": {
        "id": "Krj3ttnQYrEr"
      },
      "execution_count": null,
      "outputs": []
    },
    {
      "cell_type": "code",
      "source": [
        "# get the train and test datasets\n",
        "!wget https://courses.cs.washington.edu/courses/csep590a/23sp/hw1_train_dataset.zip -O hw1_train_dataset.zip\n",
        "!wget https://courses.cs.washington.edu/courses/csep590a/23sp/hw1_test_dataset.zip -O hw1_test_dataset.zip"
      ],
      "metadata": {
        "id": "rxBhRFGwWR43"
      },
      "execution_count": null,
      "outputs": []
    },
    {
      "cell_type": "code",
      "execution_count": 17,
      "metadata": {
        "id": "XUEvZ6rfVLgO"
      },
      "outputs": [],
      "source": [
        "# minimized angle function from utils\n",
        "def minimized_angle(angle):\n",
        "    \"\"\"Normalize an angle to [-pi, pi].\"\"\"\n",
        "    while angle < -np.pi:\n",
        "        angle += 2 * np.pi\n",
        "    while angle >= np.pi:\n",
        "        angle -= 2 * np.pi\n",
        "    return angle"
      ]
    },
    {
      "cell_type": "code",
      "execution_count": 18,
      "metadata": {
        "id": "KLvLqM2Tzqzb"
      },
      "outputs": [],
      "source": [
        "# dataset class for the car data\n",
        "class CarDataset(Dataset):\n",
        "    '''\n",
        "    Returns:\n",
        "        images as 32x128x3 numpy arrays\n",
        "        labels as 6 numpy arrays\n",
        "    '''\n",
        "    def __init__(self, path, subset=None):\n",
        "        self.zip = zipfile.ZipFile(path)\n",
        "        files = self.zip.namelist()\n",
        "        self.images = sorted([f for f in files if f.endswith('.png')])\n",
        "        self.labels = sorted([f for f in files if f.endswith('.npy')])\n",
        "        if subset is not None:\n",
        "            self.images = self.images[:subset]\n",
        "            self.labels = self.labels[:subset]\n",
        "\n",
        "    def __getitem__(self, i):\n",
        "        image = np.array(Image.open(self.zip.open(self.images[i])))\n",
        "        label = np.load(self.zip.open(self.labels[i]))\n",
        "        return image, label\n",
        "\n",
        "    def __len__(self):\n",
        "        return len(self.images)"
      ]
    },
    {
      "cell_type": "code",
      "execution_count": 19,
      "metadata": {
        "id": "vcl6HDGq0cw6"
      },
      "outputs": [],
      "source": [
        "# make train and test datasets\n",
        "batch_size = 64\n",
        "train_dataset = CarDataset('hw1_train_dataset.zip')\n",
        "train_loader = DataLoader(train_dataset, batch_size=batch_size, shuffle=True)\n",
        "\n",
        "test_dataset = CarDataset('hw1_test_dataset.zip')\n",
        "test_loader = DataLoader(test_dataset, batch_size=batch_size, shuffle=False)"
      ]
    },
    {
      "cell_type": "code",
      "execution_count": 20,
      "metadata": {
        "id": "ck1KlyaZ_UVt"
      },
      "outputs": [],
      "source": [
        "# build the model and optimizer\n",
        "model = observation_model.ObservationModel().cuda()\n",
        "optimizer = torch.optim.Adam(model.parameters(), lr=3e-4)"
      ]
    },
    {
      "cell_type": "code",
      "execution_count": null,
      "metadata": {
        "id": "1jAbzzaU71CD"
      },
      "outputs": [],
      "source": [
        "# train\n",
        "supervision_mode = 'direction'\n",
        "num_epochs = 10\n",
        "losses = []\n",
        "for epoch in range(1, num_epochs+1):\n",
        "    print('Epoch: %i'%epoch)\n",
        "    print('Training')\n",
        "    model.train()\n",
        "    iterate = tqdm(train_loader)\n",
        "    for x, y in iterate:\n",
        "        # normalize the image between 0 and 1, move to cuda and change the ordering to b,c,h,w\n",
        "        x = (x.float().cuda() / 255.).permute(0,3,1,2)\n",
        "        b = x.shape[0]\n",
        "        y = y.float().view(b,6).cuda()\n",
        "\n",
        "        x = model(x)\n",
        "\n",
        "        if supervision_mode == 'theta':\n",
        "            assert x.shape[1] == 6\n",
        "        elif supervision_mode == 'direction':\n",
        "            y = torch.cat([torch.cos(y), torch.sin(y)], dim=1)\n",
        "            assert x.shape[1] == 12\n",
        "        else:\n",
        "            raise ValueError('Unknown supervision_mode: %s'%supervision_mode)\n",
        "        loss = F.mse_loss(x,y)\n",
        "\n",
        "        loss.backward()\n",
        "        optimizer.step()\n",
        "        optimizer.zero_grad()\n",
        "\n",
        "        losses.append(float(loss))\n",
        "        recent_losses = losses[-100:]\n",
        "        running_loss = sum(recent_losses)/len(recent_losses)\n",
        "        iterate.set_description('Loss: %.04f'%running_loss)\n",
        "\n",
        "    plt.plot(np.arange(len(losses)), losses, label='loss')\n",
        "    plt.legend()\n",
        "    plt.show()\n",
        "\n",
        "    print('Evaluating')\n",
        "    all_errors = []\n",
        "    model.eval()\n",
        "    with torch.no_grad():\n",
        "        for x, y in tqdm(test_loader):\n",
        "            x = x.float().cuda() / 255.\n",
        "            x = x.permute(0,3,1,2)\n",
        "            b = x.shape[0]\n",
        "            y = y.float().view(b,6).cuda()\n",
        "\n",
        "            x = model(x)\n",
        "            if supervision_mode == 'theta':\n",
        "                theta = x\n",
        "            elif supervision_mode == 'direction':\n",
        "                theta = torch.atan2(x[:,6:], x[:,:6])\n",
        "            else:\n",
        "                raise ValueError('Unknown supervision_mode: %s'%supervision_mode)\n",
        "            error = (theta-y).view(-1).cpu().numpy()\n",
        "            error = [abs(minimized_angle(float(e))) for e in error]\n",
        "            all_errors.extend(error)\n",
        "    error_mean = np.mean(all_errors)\n",
        "    error_std = np.std(all_errors)\n",
        "    print('Error Mean: %f'%float(error_mean))\n",
        "    print('Error Std: %f'%float(error_std))\n",
        "    \n",
        "    print('Saving Checkpoint')\n",
        "    state_dict = model.state_dict()\n",
        "    torch.save(state_dict, 'checkpoint.pt')\n"
      ]
    },
    {
      "cell_type": "code",
      "execution_count": null,
      "metadata": {
        "id": "gvxw9KyoVLgT"
      },
      "outputs": [],
      "source": []
    }
  ],
  "metadata": {
    "accelerator": "GPU",
    "colab": {
      "provenance": []
    },
    "gpuClass": "standard",
    "kernelspec": {
      "display_name": "Python 3 (ipykernel)",
      "language": "python",
      "name": "python3"
    },
    "language_info": {
      "codemirror_mode": {
        "name": "ipython",
        "version": 3
      },
      "file_extension": ".py",
      "mimetype": "text/x-python",
      "name": "python",
      "nbconvert_exporter": "python",
      "pygments_lexer": "ipython3",
      "version": "3.9.16"
    }
  },
  "nbformat": 4,
  "nbformat_minor": 0
}